{
 "cells": [
  {
   "cell_type": "markdown",
   "metadata": {
    "id": "CPdNlk44s3tl"
   },
   "source": [
    "## Big Man Betweenness (BMB): A Network Measure for QB Pass Protection\n",
    "\n",
    "Team: Bruno Scodari, Mirjana Stevanovic, Peiying Hua  \\\n",
    "Affiliation: Dartmouth College"
   ]
  },
  {
   "cell_type": "code",
   "execution_count": 1,
   "metadata": {},
   "outputs": [
    {
     "data": {
      "text/html": [
       "<script>\n",
       "code_show=true; \n",
       "function code_toggle() {\n",
       " if (code_show){\n",
       " $('div.input').hide();\n",
       " } else {\n",
       " $('div.input').show();\n",
       " }\n",
       " code_show = !code_show\n",
       "} \n",
       "$( document ).ready(code_toggle);\n",
       "</script>\n",
       "<form action=\"javascript:code_toggle()\"><input type=\"submit\" value=\"Click here to toggle on/off the raw code.\"></form>"
      ],
      "text/plain": [
       "<IPython.core.display.HTML object>"
      ]
     },
     "execution_count": 1,
     "metadata": {},
     "output_type": "execute_result"
    }
   ],
   "source": [
    "from IPython.display import HTML\n",
    "\n",
    "HTML('''<script>\n",
    "code_show=true; \n",
    "function code_toggle() {\n",
    " if (code_show){\n",
    " $('div.input').hide();\n",
    " } else {\n",
    " $('div.input').show();\n",
    " }\n",
    " code_show = !code_show\n",
    "} \n",
    "$( document ).ready(code_toggle);\n",
    "</script>\n",
    "<form action=\"javascript:code_toggle()\"><input type=\"submit\" value=\"Click here to toggle on/off the raw code.\"></form>''')"
   ]
  },
  {
   "cell_type": "markdown",
   "metadata": {},
   "source": [
    "## TODO \n",
    "\n",
    "All\n",
    "- proofread\n",
    "\n",
    "Bruno \n",
    "- pressure test code\n",
    "- link folders to git \n",
    "\n",
    "Mina \n",
    "- drive conclusion? consider adding Abstract to just give the audience the answers up front?\n",
    "- see if you want to add to any of the analysis sections \n",
    "- help with making visuals prettier? there's an NFL ggplot addition that maybe we should try to use\n",
    "\n",
    "Peiying\n",
    "- finish programming the visualization\n",
    "- take a look at the mixed model specification to see if we can make it look more mathy? may not be necessary"
   ]
  },
  {
   "cell_type": "code",
   "execution_count": 3,
   "metadata": {
    "tags": [
     "hide_code"
    ]
   },
   "outputs": [],
   "source": [
    "import pandas as pd\n",
    "import warnings\n",
    "from IPython.display import display_html\n",
    "from itertools import chain,cycle\n",
    "warnings.filterwarnings('ignore')\n",
    "\n",
    "# defining a funciton to display side-by-side dataframes\n",
    "def display_side_by_side(*args,titles=cycle([''])):\n",
    "    html_str=''\n",
    "    for df,title in zip(args, chain(titles,cycle(['</br>'])) ):\n",
    "        html_str+='<th style=\"text-align:center\"><td style=\"vertical-align:top\">'\n",
    "        html_str+=f'<h2 style=\"text-align: center;\">{title}</h2>'\n",
    "        html_str+=df.to_html().replace('table','table style=\"display:inline\"')\n",
    "        html_str+='</td></th>'\n",
    "    display_html(html_str,raw=True)"
   ]
  },
  {
   "cell_type": "markdown",
   "metadata": {
    "id": "TegS2t5lC2v8"
   },
   "source": [
    "## Introduction"
   ]
  },
  {
   "cell_type": "markdown",
   "metadata": {},
   "source": [
    "**Network analysis** is the scientific discipline that examines the structure of relations, often social ones, through the use of graph theory and quantitative methods. A network is characterized by a set of actors, or **nodes**, and the relationships, or **edges**, that connect them. Edges can be directed or undirected, and are often assigned weights that reflect the magnitude or strength of a given relationship. A network is easily represented mathematically using the underlying adjacency matrix, and can be visualized using a sociogram. Different measures can be computed using the adjacency matrix to answer questions about a specific network.\n",
    "\n",
    "Network analysis has applications across many domains, including sports. For example, networks have been used in the past to study pass-sharing among soccer players and assess the importance of individual players and the relationships among them. In this project, we apply network analysis to the NFL's Next Gen Stats data and propose a novel network analytic metric titled **B**ig **M**an **B**etweenness (**BMB**) to evaluate the pass protection efficiency of offensive linemen. This notebook outlines our approach, and its content is organized as follows:\n",
    "1. **Network Assembly**: We construct a network for each frame in the 8-week tracking data and integrate player spatial data to inform node positioning.\n",
    "2. **The BMB Metric**: We outline the development and visualization of the BMB metric.\n",
    "3. **Statistical Inference**: We test the association between BMB and quarterback pass protection. \n",
    "4. **Application**: We use the BMB metric to compute team ratings, quantify the probability of success, and visualize plays.\n",
    "5. **Conclusion**: We discuss the limitations of our approach, and outline future directions of this project.\n",
    "\n",
    "We hope this work will provide actionable insights to NFL coaches, and inform future network science applications in American football."
   ]
  },
  {
   "cell_type": "markdown",
   "metadata": {
    "id": "I3p61fvYz9xw"
   },
   "source": [
    "## 1. Network Assembly"
   ]
  },
  {
   "cell_type": "markdown",
   "metadata": {},
   "source": [
    "For each frame in a given play, we define a network whose nodes represent the players and their spatial positions on the field. Edges are induced among the quarterback and all offensive and defensive players, as well as among the offensive line and defensive players. Edges are inversely weighted by $\\epsilon$, where $\\epsilon$ represents the Euclidean distance between nodes. An inverse weighting scheme assigns greater strength to ties among players who are closer on the field than to those who are further away. Lastly, edges are removed for nodes that are more than $7$ yards apart. We chose a 7-yard cutoff because in the commonly used Shotgun formation for passing plays, the quarterback stands approximately $5-7$ yards behind the center. It seems plausible to argue that restricting connections to those within $7$ yards of a given player allows us to focus our analysis on the most meaningful relationships and concurrently filter out noisy relations that could distort the results of the subsequent network analysis. The GIF below shows the networks that comprise a single play chosen for illustration.\n",
    "\n",
    "Week 1: Tampa Bay Buccaneers vs. Dallas Cowboys, play 947: *(:05) (Shotgun) T.Brady pass incomplete short middle to A.Brown (D.Kazee)*\n",
    "![gif1](https://raw.githubusercontent.com/bscod27/big-man-betweenness/main/gifs/pos/final.gif)\n",
    "\n",
    "\n",
    "Once a network is initialized, centrality measures are commonly computed to assign numeric values to the nodes to capture \"importance.\" A commonly used centrality measure is **betweenness centrality**. The betweenness of node $i$ is given by the proportion of times that node $i$ lies on the **shortest path** between two other nodes, or simply by the number of paths that pass through node $i$. Betweenness centrality can also be captured in a weighted network by using **minimal weighted paths** instead of shortest paths, which is calculated by taking the geodesic distance among nodes. Nodes with high betweenness are commonly referred to as \"**brokers**,\" as this measure has been commonly used to understand which nodes in a social network \"broker\" or mediate relationships between others. The weighted network below assigns betweenness scores to offensive linemen. We square root betweenness measures for the offensive line, calculate the mean, and overlay this dynamic metric onto the network in the GIF below.\n",
    "\n",
    "Week 1: Tampa Bay Buccaneers vs. Dallas Cowboys, play 947: *(:05) (Shotgun) T.Brady pass incomplete short middle to A.Brown (D.Kazee)*\n",
    "![gif2](https://raw.githubusercontent.com/bscod27/big-man-betweenness/main/gifs/betw/final.gif)\n",
    "\n",
    "Extending the concept of a broker to football, **we hypothesize that offensive lines with higher mean betweenness centrality across frames in a play are associated with quarterback pass protection.** This forms the basis for the formulation of our metric BMB, which is explained in the following section. Before moving there, we wrangle our data into useable form and specifically take the following steps: \n",
    "- Merge datasets to the 8-week tracking information based on primary keys specified in the Kaggle prompt\n",
    "- Assemble networks for each frame in a given play and calculate the average weighted betweenness centrality among the offensive line\n",
    "- Define an outcome variable called \"**pressure**,\" which represents whether the QB was either hurried, hit, or sacked on a given play \n",
    "- Average dynamic variables and take the mode of static variables across the frames for each play to derive a large data frame whose rows/observations represent individual plays\n",
    "\n",
    "The head of the resulting dataset is displayed below, which will be used for subsequent analysis."
   ]
  },
  {
   "cell_type": "code",
   "execution_count": 3,
   "metadata": {},
   "outputs": [
    {
     "name": "stdout",
     "output_type": "stream",
     "text": [
      "Dimension: (8550, 11) \n",
      "\n"
     ]
    },
    {
     "data": {
      "text/html": [
       "<div>\n",
       "<style scoped>\n",
       "    .dataframe tbody tr th:only-of-type {\n",
       "        vertical-align: middle;\n",
       "    }\n",
       "\n",
       "    .dataframe tbody tr th {\n",
       "        vertical-align: top;\n",
       "    }\n",
       "\n",
       "    .dataframe thead th {\n",
       "        text-align: right;\n",
       "    }\n",
       "</style>\n",
       "<table border=\"1\" class=\"dataframe\">\n",
       "  <thead>\n",
       "    <tr style=\"text-align: right;\">\n",
       "      <th></th>\n",
       "      <th>gameId</th>\n",
       "      <th>playId</th>\n",
       "      <th>pos_team</th>\n",
       "      <th>def_team</th>\n",
       "      <th>down</th>\n",
       "      <th>yardstogo</th>\n",
       "      <th>def_coverage</th>\n",
       "      <th>def_covtype</th>\n",
       "      <th>def_playersinbox</th>\n",
       "      <th>line_betw</th>\n",
       "      <th>pressure</th>\n",
       "    </tr>\n",
       "    <tr>\n",
       "      <th>week</th>\n",
       "      <th></th>\n",
       "      <th></th>\n",
       "      <th></th>\n",
       "      <th></th>\n",
       "      <th></th>\n",
       "      <th></th>\n",
       "      <th></th>\n",
       "      <th></th>\n",
       "      <th></th>\n",
       "      <th></th>\n",
       "      <th></th>\n",
       "    </tr>\n",
       "  </thead>\n",
       "  <tbody>\n",
       "    <tr>\n",
       "      <th>1</th>\n",
       "      <td>2021091207</td>\n",
       "      <td>152</td>\n",
       "      <td>ARI</td>\n",
       "      <td>TEN</td>\n",
       "      <td>1</td>\n",
       "      <td>10</td>\n",
       "      <td>Cover-3</td>\n",
       "      <td>Zone</td>\n",
       "      <td>8</td>\n",
       "      <td>0.032619</td>\n",
       "      <td>0</td>\n",
       "    </tr>\n",
       "    <tr>\n",
       "      <th>1</th>\n",
       "      <td>2021091207</td>\n",
       "      <td>218</td>\n",
       "      <td>ARI</td>\n",
       "      <td>TEN</td>\n",
       "      <td>1</td>\n",
       "      <td>18</td>\n",
       "      <td>Cover-3</td>\n",
       "      <td>Zone</td>\n",
       "      <td>7</td>\n",
       "      <td>0.039551</td>\n",
       "      <td>0</td>\n",
       "    </tr>\n",
       "    <tr>\n",
       "      <th>1</th>\n",
       "      <td>2021091207</td>\n",
       "      <td>253</td>\n",
       "      <td>ARI</td>\n",
       "      <td>TEN</td>\n",
       "      <td>2</td>\n",
       "      <td>17</td>\n",
       "      <td>Quarters</td>\n",
       "      <td>Zone</td>\n",
       "      <td>5</td>\n",
       "      <td>0.009189</td>\n",
       "      <td>0</td>\n",
       "    </tr>\n",
       "    <tr>\n",
       "      <th>1</th>\n",
       "      <td>2021091207</td>\n",
       "      <td>386</td>\n",
       "      <td>ARI</td>\n",
       "      <td>TEN</td>\n",
       "      <td>2</td>\n",
       "      <td>24</td>\n",
       "      <td>Cover-6</td>\n",
       "      <td>Zone</td>\n",
       "      <td>5</td>\n",
       "      <td>0.013034</td>\n",
       "      <td>0</td>\n",
       "    </tr>\n",
       "    <tr>\n",
       "      <th>1</th>\n",
       "      <td>2021091207</td>\n",
       "      <td>410</td>\n",
       "      <td>ARI</td>\n",
       "      <td>TEN</td>\n",
       "      <td>3</td>\n",
       "      <td>16</td>\n",
       "      <td>Cover-3</td>\n",
       "      <td>Zone</td>\n",
       "      <td>6</td>\n",
       "      <td>0.010476</td>\n",
       "      <td>0</td>\n",
       "    </tr>\n",
       "    <tr>\n",
       "      <th>1</th>\n",
       "      <td>2021091207</td>\n",
       "      <td>621</td>\n",
       "      <td>ARI</td>\n",
       "      <td>TEN</td>\n",
       "      <td>2</td>\n",
       "      <td>5</td>\n",
       "      <td>Cover-1</td>\n",
       "      <td>Man</td>\n",
       "      <td>5</td>\n",
       "      <td>0.016653</td>\n",
       "      <td>0</td>\n",
       "    </tr>\n",
       "    <tr>\n",
       "      <th>1</th>\n",
       "      <td>2021091207</td>\n",
       "      <td>660</td>\n",
       "      <td>ARI</td>\n",
       "      <td>TEN</td>\n",
       "      <td>3</td>\n",
       "      <td>5</td>\n",
       "      <td>Red Zone</td>\n",
       "      <td>Other</td>\n",
       "      <td>6</td>\n",
       "      <td>0.018937</td>\n",
       "      <td>0</td>\n",
       "    </tr>\n",
       "    <tr>\n",
       "      <th>1</th>\n",
       "      <td>2021091207</td>\n",
       "      <td>839</td>\n",
       "      <td>ARI</td>\n",
       "      <td>TEN</td>\n",
       "      <td>2</td>\n",
       "      <td>6</td>\n",
       "      <td>Cover-1</td>\n",
       "      <td>Man</td>\n",
       "      <td>6</td>\n",
       "      <td>0.017703</td>\n",
       "      <td>0</td>\n",
       "    </tr>\n",
       "    <tr>\n",
       "      <th>1</th>\n",
       "      <td>2021091207</td>\n",
       "      <td>863</td>\n",
       "      <td>ARI</td>\n",
       "      <td>TEN</td>\n",
       "      <td>3</td>\n",
       "      <td>3</td>\n",
       "      <td>Cover-1</td>\n",
       "      <td>Man</td>\n",
       "      <td>7</td>\n",
       "      <td>0.025111</td>\n",
       "      <td>0</td>\n",
       "    </tr>\n",
       "    <tr>\n",
       "      <th>1</th>\n",
       "      <td>2021091207</td>\n",
       "      <td>1090</td>\n",
       "      <td>ARI</td>\n",
       "      <td>TEN</td>\n",
       "      <td>1</td>\n",
       "      <td>10</td>\n",
       "      <td>Quarters</td>\n",
       "      <td>Zone</td>\n",
       "      <td>6</td>\n",
       "      <td>0.022553</td>\n",
       "      <td>0</td>\n",
       "    </tr>\n",
       "  </tbody>\n",
       "</table>\n",
       "</div>"
      ],
      "text/plain": [
       "          gameId  playId pos_team def_team  down  yardstogo def_coverage  \\\n",
       "week                                                                       \n",
       "1     2021091207     152      ARI      TEN     1         10      Cover-3   \n",
       "1     2021091207     218      ARI      TEN     1         18      Cover-3   \n",
       "1     2021091207     253      ARI      TEN     2         17     Quarters   \n",
       "1     2021091207     386      ARI      TEN     2         24      Cover-6   \n",
       "1     2021091207     410      ARI      TEN     3         16      Cover-3   \n",
       "1     2021091207     621      ARI      TEN     2          5      Cover-1   \n",
       "1     2021091207     660      ARI      TEN     3          5     Red Zone   \n",
       "1     2021091207     839      ARI      TEN     2          6      Cover-1   \n",
       "1     2021091207     863      ARI      TEN     3          3      Cover-1   \n",
       "1     2021091207    1090      ARI      TEN     1         10     Quarters   \n",
       "\n",
       "     def_covtype  def_playersinbox  line_betw  pressure  \n",
       "week                                                     \n",
       "1           Zone                 8   0.032619         0  \n",
       "1           Zone                 7   0.039551         0  \n",
       "1           Zone                 5   0.009189         0  \n",
       "1           Zone                 5   0.013034         0  \n",
       "1           Zone                 6   0.010476         0  \n",
       "1            Man                 5   0.016653         0  \n",
       "1          Other                 6   0.018937         0  \n",
       "1            Man                 6   0.017703         0  \n",
       "1            Man                 7   0.025111         0  \n",
       "1           Zone                 6   0.022553         0  "
      ]
     },
     "execution_count": 3,
     "metadata": {},
     "output_type": "execute_result"
    }
   ],
   "source": [
    "import pandas as pd\n",
    "url = 'https://raw.githubusercontent.com/bscod27/big-man-betweenness/main/snippets/rolled.csv'\n",
    "df = pd.read_csv(url,index_col=0,parse_dates=[0])\n",
    "print('Dimension:', df.shape, '\\n')\n",
    "df.head(10)"
   ]
  },
  {
   "cell_type": "markdown",
   "metadata": {
    "id": "jlbpGvFo0CV_"
   },
   "source": [
    "## 2. The \"Big Man Betweenness\" Metric"
   ]
  },
  {
   "cell_type": "markdown",
   "metadata": {},
   "source": [
    "### Overview\n",
    "Recognizing that the betweenness centrality of an offensive line in a given play is largely dependent on the spatial positioning of the opposition at the time of snap, we attempt to account for the number of defenders in the box to standardize this metric accordingly. For instance, teams with dual-threat quarterbacks may strongly influence the opposition's formation and propensity to blitz, resulting in potentially lower betweenness centrality among the possession team's offensive line. Our methodology for standardizing betweenness of the offensive line forms the basis of the $BMB$ metric. "
   ]
  },
  {
   "cell_type": "markdown",
   "metadata": {},
   "source": [
    "### The math\n",
    "We define $BMB$ as simply the ratio between the observed square root of O-line betweenness and its expectation given the number of defenders in the box. We square root O-line betweenness to normalize its distribution. The mathematical definition is below: \n",
    "\n",
    "$$BMB = \\frac{Y \\sim \\mathcal{N}(\\mu \\neq 0, \\ \\sigma^2)}{E(Y|X)\\sim \\mathcal{N}(\\mu \\neq 0, \\ \\sigma^2)},  \\quad \\text{where } Y=\\sqrt{\\text{O-line betweenness}} \\ \\text{ and } \\ X=\\text{defenders in the box}$$\n",
    "\n",
    "To estimate $E(Y|X)$, we fit a multilevel linear model where we regress $Y$ onto $X$ and control for within-group variability for week, game, offense, and defense using random intercepts. The fitted values of this model yield the expected values, which are then used to obtain the $BMB$ metric at a play-level. The model specification is included below:\n",
    "\n",
    "$$ E(Y|X) = (1 | \\text{week}) + (1 | \\text{game}) + (1 | \\text{offense}) + (1 | \\text{defense}) + \\beta_1 X + \\epsilon$$\n",
    "\n",
    "In matrix notation:\n",
    "\n",
    "$$y = X\\beta + Zb + \\epsilon$$\n",
    "\n",
    "\n",
    "Where: \n",
    "1. $y$ is the observation of dependent variable. $E(y) = X\\beta$\n",
    "2. $\\beta$ is the vector of fixed effects.\n",
    "3. $b$ is the vector of random effects. $E(b) = 0$\n",
    "4. The variance-covariance matrix $var(b) = G$.\n",
    "5. $\\epsilon$ is the random error term. $E(\\epsilon) = 0$ and $var(\\epsilon) = R$ \n",
    "\n",
    "$$\\begin{bmatrix} X^TR^{-1}X & X^TR^{-1}Z \\\\ Z^TR^{-1}X & Z^TR^{-1}Z+G^{-1} \\end{bmatrix} \\begin{bmatrix} \\hat{\\beta} \\\\ \\hat{b}\\end{bmatrix} = \\begin{bmatrix} X^TR^{-1}y \\\\ Z^TR^{-1}y\\end{bmatrix}$$\n"
   ]
  },
  {
   "cell_type": "markdown",
   "metadata": {},
   "source": [
    "### Sampling distribution\n",
    " Since $Y \\sim \\mathcal{N(\\mu \\neq 0, \\ \\sigma^2)}$ and $E(Y|X) \\sim \\mathcal{N(\\mu \\neq 0, \\ \\sigma^2)}$, the resulting ratio distribution of $BMB$ should be **approximately normal** in certain cases according to prior [research](https://link.springer.com/content/pdf/10.1007/s00362-012-0429-2.pdf).\n",
    "\n",
    "We interrogate the normality of the empirical distribution for play-level $BMB$. According to our data, the mean of the distribution is centered at approximately 1, while the variance is roughly 0.03. We can visualize the empirical distribution in relation to the $\\mathcal{N}(\\mu=1, \\ \\sigma^2=0.03)$ approximation. \n",
    "\n",
    "\n",
    "<div>\n",
    "<img src=\"https://raw.githubusercontent.com/bscod27/big-man-betweenness/main/images/density.png\" width=\"550\"/>\n",
    "</div>\n",
    "\n",
    "While the empirical distribution is slightly off-centered and right-skewed, we observe that the normal approximation is reasonable. Understanding the sampling distribution for $BMB$ comes in handy for application purposes in subsequent sections."
   ]
  },
  {
   "cell_type": "markdown",
   "metadata": {},
   "source": [
    "### Interpretation\n",
    "The major benefit of constructing $BMB$ as a ratio between observed and expected values is interpretability. Given that we want to maximize $BMB$, a $BMB>1$ indicates overperformance while $BMB<1$ indicates underperformance. The normal approximation for our statistic also aids in interpretation to assess the likelihood of observing a $BMB$ statistic that is more extreme than the null hypothesis of $BMB=1$."
   ]
  },
  {
   "cell_type": "markdown",
   "metadata": {
    "id": "Im_mXMNoH7fK"
   },
   "source": [
    "## 3. Statistical Inference"
   ]
  },
  {
   "cell_type": "markdown",
   "metadata": {},
   "source": [
    "In the previous section, we showed how to calculate $BMB$, uncovered its approximate sampling distribution, and discussed how to interpret the statistic; however, we have not yet shown **why** this metric is important. To illustrate the importance of $BMB$, we fit several multilevel logistic regression models to demonstrate its strong association with the previously defined **pressure** outcome, which we define as $P$. The following models have been fit on play-level data and control for varying subsets of covariates which may distort the exposure-outcome relationship: \n",
    "\n",
    "- Model 1: $P = (1 | \\text{week}) + (1 | \\text{game}) + (1 | \\text{off}) + (1 | \\text{def}) + \\beta_1 (BMB) + \\epsilon$\n",
    "- Model 2: $P = (1 | \\text{week}) + (1 | \\text{game}) + (1 | \\text{off}) + (1 | \\text{def})+ \\beta_1 (BMB) + \\beta_2 (\\text{def in box}) + \\beta_3 (\\text{coverage}) + \\epsilon$\n",
    "- Model 3: $P = (1 | \\text{week}) + (1 | \\text{game}) + (1 | \\text{off}) + (1 | \\text{def}) + \\beta_1 (BMB) +\\beta_2 (\\text{def in box}) + \\beta_3 (\\text{coverage}) + \\beta_4 (\\text{down}) + \\beta_5 (\\text{yards to go}) + \\epsilon$\n",
    "\n",
    "The fixed effects for $BMB$ have been exponentiated to obtain odds ratios, and 95% CIs have been calculated via the normal approximation method. The results are shown below.\n",
    "\n",
    "\n",
    "<div>\n",
    "<img src=\"https://raw.githubusercontent.com/bscod27/big-man-betweenness/main/images/model_results.png\" width=\"750\"/>\n",
    "</div>\n",
    "\n",
    "\n",
    "For all cases, increasing $BMB$ is significantly associated with a decreased odds of quarterback pressure, even when controlling for various covariates that may distort the exposure-outcome relationship. Thus, we conclude that $BMB$ is an important indicator of successful quarterback pass protection, and one that NFL analysts should consider using."
   ]
  },
  {
   "cell_type": "markdown",
   "metadata": {
    "id": "ZNYENoAo0KyW"
   },
   "source": [
    "## 4. Applications"
   ]
  },
  {
   "cell_type": "markdown",
   "metadata": {},
   "source": [
    "### Team ratings\n",
    "One of the obvious applications of $BMB$ is using it to rate team O-line performance. Using the play-level data, we average O-line betweenness and defenders in the box across plays for each team. We then use the fixed effect coefficient from the previously fit linear mixed model to estimate the corresponding expected values for betweenness centrality and $BMB$ statistic at the team-level."
   ]
  },
  {
   "cell_type": "markdown",
   "metadata": {},
   "source": [
    "Now, we examine two plots that establish a framework for rating each team's O-line on pass plays. The first rank-orders each team by average $BMB$.\n",
    "\n",
    "\n",
    "<div>\n",
    "<img src=\"https://raw.githubusercontent.com/bscod27/big-man-betweenness/main/images/rankings.png\" width=\"750\"/>\n",
    "</div>\n",
    "\n",
    "\n",
    "The second plots the $BMB$ numerator vs. denominator to distill the driving elements of the calculated statistic for each team.\n",
    "\n",
    "\n",
    "<div>\n",
    "<img src=\"https://raw.githubusercontent.com/bscod27/big-man-betweenness/main/images/matrix.png\" width=\"750\"/>\n",
    "</div>\n",
    "\n",
    "\n",
    "The above matrix plots each team into one of four partitions based on $Y$ vs. $E(Y|X)$. The diagonal line represents $y=x$, or the null value for $BMB=1$, and the vertical line indicates the mean of the expectation, or in mathematical terms, $E[E(Y|X)]]$. \n",
    "\n",
    "So, teams above the diagonal have an average $BMB>1$, and teams below the diagonal have an average $BMB<1$. Teams to the right of the vertical line had a higher expected value, and teams to the left had a lower expected value. \n",
    "\n",
    "Following, one could interpret teams in the bottom right quadrant as those who were expected to perform better than they actually did on pass plays."
   ]
  },
  {
   "cell_type": "markdown",
   "metadata": {},
   "source": [
    "### Probabilities of success\n",
    "Due to the earlier establishment that $BMB \\sim \\mathcal{N}(\\mu=1, \\sigma^2=0.03)$, we can use the cumulative distribution function for $BMB$ to assign probabilities of \"success\" (ie, successful pass protection of QB) to each play. This could be especially useful for coaches who spend lots of time reviewing film and analyzing various ways to be successful. In theory, using this probability of success, one could easily isolate the most critical plays or understand how probabilities change given different play scenarios. \n",
    "\n",
    "We demonstrate how this could be useful by zooming in on the Dallas Cowboys and analyzing how their probabilities of success change given different cuts of the data below."
   ]
  },
  {
   "cell_type": "markdown",
   "metadata": {},
   "source": [
    "Now that we've established a strong association between $BMB$ and quarterback pressure on passing plays, we shift our focus to application of this metric. "
   ]
  },
  {
   "cell_type": "code",
   "execution_count": 4,
   "metadata": {},
   "outputs": [
    {
     "data": {
      "text/html": [
       "<th style=\"text-align:center\"><td style=\"vertical-align:top\"><h2 style=\"text-align: center;\"></h2><table style=\"display:inline\" border=\"1\" class=\"dataframe\">\n",
       "  <thead>\n",
       "    <tr style=\"text-align: right;\">\n",
       "      <th></th>\n",
       "      <th>Probability</th>\n",
       "    </tr>\n",
       "    <tr>\n",
       "      <th>Down</th>\n",
       "      <th></th>\n",
       "    </tr>\n",
       "  </thead>\n",
       "  <tbody>\n",
       "    <tr>\n",
       "      <th>4th/2pc</th>\n",
       "      <td>0.738572</td>\n",
       "    </tr>\n",
       "    <tr>\n",
       "      <th>1st</th>\n",
       "      <td>0.486500</td>\n",
       "    </tr>\n",
       "    <tr>\n",
       "      <th>3rd</th>\n",
       "      <td>0.439910</td>\n",
       "    </tr>\n",
       "    <tr>\n",
       "      <th>2nd</th>\n",
       "      <td>0.431703</td>\n",
       "    </tr>\n",
       "  </tbody>\n",
       "</table style=\"display:inline\"></td></th><th style=\"text-align:center\"><td style=\"vertical-align:top\"><h2 style=\"text-align: center;\"></h2><table style=\"display:inline\" border=\"1\" class=\"dataframe\">\n",
       "  <thead>\n",
       "    <tr style=\"text-align: right;\">\n",
       "      <th></th>\n",
       "      <th>Probability</th>\n",
       "    </tr>\n",
       "    <tr>\n",
       "      <th>Coverage type</th>\n",
       "      <th></th>\n",
       "    </tr>\n",
       "  </thead>\n",
       "  <tbody>\n",
       "    <tr>\n",
       "      <th>Man</th>\n",
       "      <td>0.515263</td>\n",
       "    </tr>\n",
       "    <tr>\n",
       "      <th>Zone</th>\n",
       "      <td>0.433756</td>\n",
       "    </tr>\n",
       "    <tr>\n",
       "      <th>Other</th>\n",
       "      <td>0.421909</td>\n",
       "    </tr>\n",
       "  </tbody>\n",
       "</table style=\"display:inline\"></td></th><th style=\"text-align:center\"><td style=\"vertical-align:top\"><h2 style=\"text-align: center;\"></h2><table style=\"display:inline\" border=\"1\" class=\"dataframe\">\n",
       "  <thead>\n",
       "    <tr style=\"text-align: right;\">\n",
       "      <th></th>\n",
       "      <th>Probability</th>\n",
       "    </tr>\n",
       "    <tr>\n",
       "      <th>Coverage</th>\n",
       "      <th></th>\n",
       "    </tr>\n",
       "  </thead>\n",
       "  <tbody>\n",
       "    <tr>\n",
       "      <th>Cover-0</th>\n",
       "      <td>0.670825</td>\n",
       "    </tr>\n",
       "    <tr>\n",
       "      <th>Cover-6</th>\n",
       "      <td>0.510233</td>\n",
       "    </tr>\n",
       "    <tr>\n",
       "      <th>2-Man</th>\n",
       "      <td>0.495028</td>\n",
       "    </tr>\n",
       "    <tr>\n",
       "      <th>Cover-1</th>\n",
       "      <td>0.477954</td>\n",
       "    </tr>\n",
       "    <tr>\n",
       "      <th>Red Zone</th>\n",
       "      <td>0.450754</td>\n",
       "    </tr>\n",
       "    <tr>\n",
       "      <th>Cover-3</th>\n",
       "      <td>0.435605</td>\n",
       "    </tr>\n",
       "    <tr>\n",
       "      <th>Cover-2</th>\n",
       "      <td>0.407063</td>\n",
       "    </tr>\n",
       "    <tr>\n",
       "      <th>Bracket</th>\n",
       "      <td>0.390890</td>\n",
       "    </tr>\n",
       "    <tr>\n",
       "      <th>Quarters</th>\n",
       "      <td>0.389206</td>\n",
       "    </tr>\n",
       "    <tr>\n",
       "      <th>Other</th>\n",
       "      <td>0.199838</td>\n",
       "    </tr>\n",
       "  </tbody>\n",
       "</table style=\"display:inline\"></td></th>"
      ]
     },
     "metadata": {},
     "output_type": "display_data"
    }
   ],
   "source": [
    "def read_file(name):\n",
    "    url = 'https://raw.githubusercontent.com/bscod27/big-man-betweenness/main/snippets/' + name\n",
    "    return pd.read_csv(url,index_col=0,parse_dates=[0])\n",
    "\n",
    "df1 = read_file('down.csv')\n",
    "df2 = read_file('covtype.csv')\n",
    "df3 = read_file('defcov.csv')\n",
    "\n",
    "display_side_by_side(df1,df2,df3) "
   ]
  },
  {
   "cell_type": "markdown",
   "metadata": {},
   "source": [
    "This data is helpful for coaching staffs who seek to 1) optimize the performance of their O-line on pass plays or 2) exploit the opposition's O-line on pass plays."
   ]
  },
  {
   "cell_type": "markdown",
   "metadata": {},
   "source": [
    "### Frame-by-frame play analysis\n",
    "\n",
    "By putting all the players back to the playfield, we visualize how the big-man-betweenness statistics change over the course of a play while the players move around the field and form different formations.\n",
    " \n",
    "Week 1 Game 2021091207: Tennessee Titans vs. Arizona Cardinals, play 3828"
   ]
  },
  {
   "cell_type": "code",
   "execution_count": 17,
   "metadata": {},
   "outputs": [
    {
     "data": {
      "text/html": [
       "\n",
       "        <iframe\n",
       "            width=\"1000\"\n",
       "            height=\"700\"\n",
       "            src=\"gifs/animation11.20quick.html\"\n",
       "            frameborder=\"0\"\n",
       "            allowfullscreen\n",
       "        ></iframe>\n",
       "        "
      ],
      "text/plain": [
       "<IPython.lib.display.IFrame at 0x1fb48cb7bb0>"
      ]
     },
     "execution_count": 17,
     "metadata": {},
     "output_type": "execute_result"
    }
   ],
   "source": [
    "from IPython.display import IFrame\n",
    "IFrame(src='gifs/animation11.20quick.html', width=1000, height=700)"
   ]
  },
  {
   "cell_type": "markdown",
   "metadata": {},
   "source": [
    "A last use case of $BMB$ is to visualize how the statistic changes over the course of a play. By doing so, coaches and players can see where passing plays break down and understand how to address any pain points with their offensive line.\n",
    "\n",
    "- Peiying's video >> show how the statistic changes over each frame\n",
    "- Try to pick a case where it flips from >1 to <1 to show how it could be useful"
   ]
  },
  {
   "cell_type": "markdown",
   "metadata": {},
   "source": [
    "## 5. Conclusion"
   ]
  },
  {
   "cell_type": "markdown",
   "metadata": {},
   "source": [
    "What we did / found\n",
    "\n",
    "Limitations\n",
    "- computationally burdensome\n",
    "- no player level assessment done here\n",
    "\n",
    "Future directions\n",
    "- look other dependent variables for statistical models\n",
    "- extend this to an individual level \n",
    "- explore other network measures in the game"
   ]
  },
  {
   "cell_type": "markdown",
   "metadata": {
    "id": "0gKCm7RBhko4"
   },
   "source": [
    "## Appendix\n",
    "\n",
    "The supporting code and associated descriptions can be found on the following [Github page](https://github.com/bscod27/big-man-betweenness)."
   ]
  }
 ],
 "metadata": {
  "colab": {
   "collapsed_sections": [],
   "provenance": [
    {
     "file_id": "1uL3MpI02sy6pP7ZX6Zzv_SKJ-x0rW33-",
     "timestamp": 1667954599294
    }
   ]
  },
  "kernelspec": {
   "display_name": "Python 3",
   "language": "python",
   "name": "python3"
  },
  "language_info": {
   "codemirror_mode": {
    "name": "ipython",
    "version": 3
   },
   "file_extension": ".py",
   "mimetype": "text/x-python",
   "name": "python",
   "nbconvert_exporter": "python",
   "pygments_lexer": "ipython3",
   "version": "3.8.8"
  },
  "varInspector": {
   "cols": {
    "lenName": 16,
    "lenType": 16,
    "lenVar": 40
   },
   "kernels_config": {
    "python": {
     "delete_cmd_postfix": "",
     "delete_cmd_prefix": "del ",
     "library": "var_list.py",
     "varRefreshCmd": "print(var_dic_list())"
    },
    "r": {
     "delete_cmd_postfix": ") ",
     "delete_cmd_prefix": "rm(",
     "library": "var_list.r",
     "varRefreshCmd": "cat(var_dic_list()) "
    }
   },
   "oldHeight": 122.84136400000001,
   "position": {
    "height": "40px",
    "left": "1454px",
    "right": "20px",
    "top": "85px",
    "width": "250px"
   },
   "types_to_exclude": [
    "module",
    "function",
    "builtin_function_or_method",
    "instance",
    "_Feature"
   ],
   "varInspector_section_display": "none",
   "window_display": true
  }
 },
 "nbformat": 4,
 "nbformat_minor": 1
}
